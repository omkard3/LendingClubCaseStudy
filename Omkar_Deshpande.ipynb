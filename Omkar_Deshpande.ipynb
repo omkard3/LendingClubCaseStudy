{
  "nbformat": 4,
  "nbformat_minor": 0,
  "metadata": {
    "colab": {
      "provenance": []
    },
    "kernelspec": {
      "name": "python3",
      "display_name": "Python 3"
    },
    "language_info": {
      "name": "python"
    }
  },
  "cells": [
    {
      "cell_type": "code",
      "source": [
        "import pandas as pd\n",
        "import matplotlib.pyplot as plt\n",
        "import seaborn as sns\n",
        "\n",
        "# Loading the data files and processing the file in chunks\n",
        "loan_data = pd.read_csv('loan.csv', low_memory=False)\n",
        "\n",
        "\n",
        "# Displaying the first few rows of each file to understand the structure\n",
        "loan_data_head = loan_data.head()\n",
        "\n",
        "\n",
        "loan_data_head\n"
      ],
      "metadata": {
        "collapsed": true,
        "id": "r7j0lRBDyBeW"
      },
      "execution_count": null,
      "outputs": []
    },
    {
      "cell_type": "code",
      "source": [
        "# Univariate Analysis: Distribution of loan amount\n",
        "\n",
        "# Calculating metrics for loan amount distribution\n",
        "loan_amount_metrics = loan_data['loan_amnt'].describe()\n",
        "print(\"Loan Amount Metrics:\\n\", loan_amount_metrics)\n",
        "\n",
        "plt.figure(figsize=(15, 5))\n",
        "\n",
        "plt.subplot(1, 3, 1)\n",
        "sns.histplot(loan_data['loan_amnt'], bins=30, kde=True, color='blue')\n",
        "plt.title('Distribution of Loan Amount')\n",
        "plt.xlabel('Loan Amount')\n",
        "plt.ylabel('Frequency')\n",
        "\n",
        "\n",
        "\n",
        "plt.tight_layout()\n",
        "plt.show()\n"
      ],
      "metadata": {
        "id": "bcBxr_FX40tE"
      },
      "execution_count": null,
      "outputs": []
    },
    {
      "cell_type": "code",
      "source": [
        "# Univariate Analysis: Distribution of interest rate\n",
        "\n",
        "# Converting 'int_rate' to numeric for analysis\n",
        "loan_data['int_rate'] = loan_data['int_rate'].str.rstrip('%').astype('float')\n",
        "\n",
        "# Calculating metrics for interest rate distribution\n",
        "interest_rate_metrics = loan_data['int_rate'].describe()\n",
        "\n",
        "print(\"\\nInterest Rate Metrics:\\n\", interest_rate_metrics)\n",
        "\n",
        "\n",
        "plt.figure(figsize=(15, 5))\n",
        "\n",
        "plt.subplot(1, 3, 2)\n",
        "sns.histplot(loan_data['int_rate'], bins=30, kde=True, color='green')\n",
        "plt.title('Distribution of Interest Rate')\n",
        "plt.xlabel('Interest Rate (%)')\n",
        "plt.ylabel('Frequency')\n",
        "\n",
        "\n",
        "plt.tight_layout()\n",
        "plt.show()"
      ],
      "metadata": {
        "id": "kb_sC1YSGuoJ"
      },
      "execution_count": null,
      "outputs": []
    },
    {
      "cell_type": "code",
      "source": [
        "# Univariate Analysis: Distribution of loan status\n",
        "\n",
        "# The distribution of loan statuses\n",
        "loan_status_counts = loan_data['loan_status'].value_counts()\n",
        "print(loan_status_counts)\n",
        "\n",
        "\n",
        "plt.figure(figsize=(15, 5))\n",
        "\n",
        "plt.subplot(1, 3, 3)\n",
        "loan_status_counts = loan_data['loan_status'].value_counts()\n",
        "sns.barplot(x=loan_status_counts.index, y=loan_status_counts.values, hue=loan_status_counts.index, palette='viridis', legend=False)\n",
        "plt.title('Loan Status Distribution')\n",
        "plt.xlabel('Loan Status')\n",
        "plt.ylabel('Count')\n",
        "plt.xticks(rotation=90)\n",
        "\n",
        "\n",
        "plt.tight_layout()\n",
        "plt.show()"
      ],
      "metadata": {
        "id": "sUoTCJ4PG0z7"
      },
      "execution_count": null,
      "outputs": []
    },
    {
      "cell_type": "markdown",
      "source": [
        "### Key Findings\n",
        "1. **Loan Amount Distribution**: Most loans are smaller, with a higher frequency of loans under $20,000.\n",
        "\n",
        "Most borrowers opt for loans between \\$5,500 and \\$15,000, with a skew towards smaller loan amounts. This could indicate that the company primarily serves middle-market or risk-averse customers who prefer lower debt obligations.\n",
        "\n",
        "2. **Interest Rate Distribution**: Interest rates are between 10% and 15%.\n",
        "\n",
        "A broad pricing strategy is implemented, where most customers are charged between 9.25% and 14.59%, with some exceptions. These rates are likely determined by a risk-based pricing model, associating higher rates with higher-risk borrowers.\n",
        "\n",
        "3. **Loan Status Distribution**: The majority of loans are either fully paid or charged off (defaulted) with a smaller proportion labeled as current.\n",
        "\n",
        "The majority of loans are successfully repaid, indicating that the company's lending criteria and risk management are effective in most cases. However, the 14% charge-off rate suggests room for improvement in credit assessment and risk management to reduce the default rate."
      ],
      "metadata": {
        "id": "l5OIJuFIS41S"
      }
    }
  ]
}